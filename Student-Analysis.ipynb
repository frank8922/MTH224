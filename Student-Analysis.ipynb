{
 "cells": [
  {
   "cell_type": "markdown",
   "metadata": {},
   "source": [
    "# Final Project: Student Performance Analysis\n",
    "### Group Members: Francisco Belliard, Arturo Fillio Villa, Rachel Bergeron, Sophia Ashiqueal"
   ]
  },
  {
   "cell_type": "markdown",
   "metadata": {},
   "source": [
    "#### Import libraries"
   ]
  },
  {
   "cell_type": "code",
   "execution_count": 6,
   "metadata": {},
   "outputs": [],
   "source": [
    "library(ggplot2)\n",
    "library(dplyr)"
   ]
  },
  {
   "cell_type": "markdown",
   "metadata": {},
   "source": [
    "#### Import dataset"
   ]
  },
  {
   "cell_type": "code",
   "execution_count": 7,
   "metadata": {},
   "outputs": [
    {
     "name": "stdout",
     "output_type": "stream",
     "text": [
      "[1] 382\n"
     ]
    },
    {
     "data": {
      "text/html": [
       "<table>\n",
       "<caption>A data.frame: 5 × 53</caption>\n",
       "<thead>\n",
       "\t<tr><th></th><th scope=col>school</th><th scope=col>sex</th><th scope=col>age</th><th scope=col>address</th><th scope=col>famsize</th><th scope=col>Pstatus</th><th scope=col>Medu</th><th scope=col>Fedu</th><th scope=col>Mjob</th><th scope=col>Fjob</th><th scope=col>⋯</th><th scope=col>famrel.y</th><th scope=col>freetime.y</th><th scope=col>goout.y</th><th scope=col>Dalc.y</th><th scope=col>Walc.y</th><th scope=col>health.y</th><th scope=col>absences.y</th><th scope=col>G1.y</th><th scope=col>G2.y</th><th scope=col>G3.y</th></tr>\n",
       "\t<tr><th></th><th scope=col>&lt;chr&gt;</th><th scope=col>&lt;chr&gt;</th><th scope=col>&lt;int&gt;</th><th scope=col>&lt;chr&gt;</th><th scope=col>&lt;chr&gt;</th><th scope=col>&lt;chr&gt;</th><th scope=col>&lt;int&gt;</th><th scope=col>&lt;int&gt;</th><th scope=col>&lt;chr&gt;</th><th scope=col>&lt;chr&gt;</th><th scope=col>⋯</th><th scope=col>&lt;int&gt;</th><th scope=col>&lt;int&gt;</th><th scope=col>&lt;int&gt;</th><th scope=col>&lt;int&gt;</th><th scope=col>&lt;int&gt;</th><th scope=col>&lt;int&gt;</th><th scope=col>&lt;int&gt;</th><th scope=col>&lt;int&gt;</th><th scope=col>&lt;int&gt;</th><th scope=col>&lt;int&gt;</th></tr>\n",
       "</thead>\n",
       "<tbody>\n",
       "\t<tr><th scope=row>1</th><td>GP</td><td>F</td><td>15</td><td>R</td><td>GT3</td><td>T</td><td>1</td><td>1</td><td>at_home </td><td>other   </td><td>⋯</td><td>3</td><td>1</td><td>2</td><td>1</td><td>1</td><td>1</td><td>4</td><td>13</td><td>13</td><td>13</td></tr>\n",
       "\t<tr><th scope=row>2</th><td>GP</td><td>F</td><td>15</td><td>R</td><td>GT3</td><td>T</td><td>1</td><td>1</td><td>other   </td><td>other   </td><td>⋯</td><td>3</td><td>3</td><td>4</td><td>2</td><td>4</td><td>5</td><td>2</td><td>13</td><td>11</td><td>11</td></tr>\n",
       "\t<tr><th scope=row>3</th><td>GP</td><td>F</td><td>15</td><td>R</td><td>GT3</td><td>T</td><td>2</td><td>2</td><td>at_home </td><td>other   </td><td>⋯</td><td>4</td><td>3</td><td>1</td><td>1</td><td>1</td><td>2</td><td>8</td><td>14</td><td>13</td><td>12</td></tr>\n",
       "\t<tr><th scope=row>4</th><td>GP</td><td>F</td><td>15</td><td>R</td><td>GT3</td><td>T</td><td>2</td><td>4</td><td>services</td><td>health  </td><td>⋯</td><td>4</td><td>3</td><td>2</td><td>1</td><td>1</td><td>5</td><td>2</td><td>10</td><td>11</td><td>10</td></tr>\n",
       "\t<tr><th scope=row>5</th><td>GP</td><td>F</td><td>15</td><td>R</td><td>GT3</td><td>T</td><td>3</td><td>3</td><td>services</td><td>services</td><td>⋯</td><td>4</td><td>2</td><td>1</td><td>2</td><td>3</td><td>3</td><td>2</td><td>13</td><td>13</td><td>13</td></tr>\n",
       "</tbody>\n",
       "</table>\n"
      ],
      "text/latex": [
       "A data.frame: 5 × 53\n",
       "\\begin{tabular}{r|lllllllllllllllllllll}\n",
       "  & school & sex & age & address & famsize & Pstatus & Medu & Fedu & Mjob & Fjob & ⋯ & famrel.y & freetime.y & goout.y & Dalc.y & Walc.y & health.y & absences.y & G1.y & G2.y & G3.y\\\\\n",
       "  & <chr> & <chr> & <int> & <chr> & <chr> & <chr> & <int> & <int> & <chr> & <chr> & ⋯ & <int> & <int> & <int> & <int> & <int> & <int> & <int> & <int> & <int> & <int>\\\\\n",
       "\\hline\n",
       "\t1 & GP & F & 15 & R & GT3 & T & 1 & 1 & at\\_home  & other    & ⋯ & 3 & 1 & 2 & 1 & 1 & 1 & 4 & 13 & 13 & 13\\\\\n",
       "\t2 & GP & F & 15 & R & GT3 & T & 1 & 1 & other    & other    & ⋯ & 3 & 3 & 4 & 2 & 4 & 5 & 2 & 13 & 11 & 11\\\\\n",
       "\t3 & GP & F & 15 & R & GT3 & T & 2 & 2 & at\\_home  & other    & ⋯ & 4 & 3 & 1 & 1 & 1 & 2 & 8 & 14 & 13 & 12\\\\\n",
       "\t4 & GP & F & 15 & R & GT3 & T & 2 & 4 & services & health   & ⋯ & 4 & 3 & 2 & 1 & 1 & 5 & 2 & 10 & 11 & 10\\\\\n",
       "\t5 & GP & F & 15 & R & GT3 & T & 3 & 3 & services & services & ⋯ & 4 & 2 & 1 & 2 & 3 & 3 & 2 & 13 & 13 & 13\\\\\n",
       "\\end{tabular}\n"
      ],
      "text/markdown": [
       "\n",
       "A data.frame: 5 × 53\n",
       "\n",
       "| <!--/--> | school &lt;chr&gt; | sex &lt;chr&gt; | age &lt;int&gt; | address &lt;chr&gt; | famsize &lt;chr&gt; | Pstatus &lt;chr&gt; | Medu &lt;int&gt; | Fedu &lt;int&gt; | Mjob &lt;chr&gt; | Fjob &lt;chr&gt; | ⋯ ⋯ | famrel.y &lt;int&gt; | freetime.y &lt;int&gt; | goout.y &lt;int&gt; | Dalc.y &lt;int&gt; | Walc.y &lt;int&gt; | health.y &lt;int&gt; | absences.y &lt;int&gt; | G1.y &lt;int&gt; | G2.y &lt;int&gt; | G3.y &lt;int&gt; |\n",
       "|---|---|---|---|---|---|---|---|---|---|---|---|---|---|---|---|---|---|---|---|---|---|\n",
       "| 1 | GP | F | 15 | R | GT3 | T | 1 | 1 | at_home  | other    | ⋯ | 3 | 1 | 2 | 1 | 1 | 1 | 4 | 13 | 13 | 13 |\n",
       "| 2 | GP | F | 15 | R | GT3 | T | 1 | 1 | other    | other    | ⋯ | 3 | 3 | 4 | 2 | 4 | 5 | 2 | 13 | 11 | 11 |\n",
       "| 3 | GP | F | 15 | R | GT3 | T | 2 | 2 | at_home  | other    | ⋯ | 4 | 3 | 1 | 1 | 1 | 2 | 8 | 14 | 13 | 12 |\n",
       "| 4 | GP | F | 15 | R | GT3 | T | 2 | 4 | services | health   | ⋯ | 4 | 3 | 2 | 1 | 1 | 5 | 2 | 10 | 11 | 10 |\n",
       "| 5 | GP | F | 15 | R | GT3 | T | 3 | 3 | services | services | ⋯ | 4 | 2 | 1 | 2 | 3 | 3 | 2 | 13 | 13 | 13 |\n",
       "\n"
      ],
      "text/plain": [
       "  school sex age address famsize Pstatus Medu Fedu Mjob     Fjob     ⋯ famrel.y\n",
       "1 GP     F   15  R       GT3     T       1    1    at_home  other    ⋯ 3       \n",
       "2 GP     F   15  R       GT3     T       1    1    other    other    ⋯ 3       \n",
       "3 GP     F   15  R       GT3     T       2    2    at_home  other    ⋯ 4       \n",
       "4 GP     F   15  R       GT3     T       2    4    services health   ⋯ 4       \n",
       "5 GP     F   15  R       GT3     T       3    3    services services ⋯ 4       \n",
       "  freetime.y goout.y Dalc.y Walc.y health.y absences.y G1.y G2.y G3.y\n",
       "1 1          2       1      1      1        4          13   13   13  \n",
       "2 3          4       2      4      5        2          13   11   11  \n",
       "3 3          1       1      1      2        8          14   13   12  \n",
       "4 3          2       1      1      5        2          10   11   10  \n",
       "5 2          1       2      3      3        2          13   13   13  "
      ]
     },
     "metadata": {},
     "output_type": "display_data"
    }
   ],
   "source": [
    "# create temp file to hold zip file\n",
    "temp <- tempfile()\n",
    "# download dataset from UCI repo\n",
    "download.file(\"https://archive.ics.uci.edu/ml/machine-learning-databases/00320/student.zip\",temp)\n",
    "# unzip data\n",
    "files <- unzip(temp)\n",
    "# import csv tables\n",
    "d1 <- read.table(files[1],sep=';',header=TRUE)\n",
    "d2 <- read.table(files[2],sep=';',header=TRUE)\n",
    "# run script to merge dataset d1 and d2 into one large dataset d3\n",
    "source(files[3])\n",
    "# print the first 5 elements\n",
    "head(d3,5)"
   ]
  },
  {
   "cell_type": "markdown",
   "metadata": {},
   "source": [
    "#### Create dataframe using select data to be analyzed"
   ]
  },
  {
   "cell_type": "code",
   "execution_count": 15,
   "metadata": {},
   "outputs": [],
   "source": [
    "# analyzing health col and G3 col from main dataset\n",
    "df <- data.frame(d3$health.y,d3$G3.y)"
   ]
  },
  {
   "cell_type": "code",
   "execution_count": null,
   "metadata": {},
   "outputs": [],
   "source": []
  },
  {
   "cell_type": "code",
   "execution_count": null,
   "metadata": {},
   "outputs": [],
   "source": []
  }
 ],
 "metadata": {
  "kernelspec": {
   "display_name": "R",
   "language": "R",
   "name": "ir"
  },
  "language_info": {
   "codemirror_mode": "r",
   "file_extension": ".r",
   "mimetype": "text/x-r-source",
   "name": "R",
   "pygments_lexer": "r",
   "version": "4.0.3"
  }
 },
 "nbformat": 4,
 "nbformat_minor": 4
}
